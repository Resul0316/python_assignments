{
 "cells": [
  {
   "cell_type": "code",
   "execution_count": null,
   "metadata": {},
   "outputs": [],
   "source": [
    "y = lambda input: \" \".join(reversed(input().split(\" \")))              #x.split().list(reversed()).join()\n",
    "print(y(input)) "
   ]
  },
  {
   "cell_type": "code",
   "execution_count": 1,
   "metadata": {},
   "outputs": [
    {
     "name": "stdout",
     "output_type": "stream",
     "text": [
      ".leahciM si eman ym ,olleH\n"
     ]
    }
   ],
   "source": [
    "sentence = \"Hello, my name is Michael.\"                        # reversing all characters!\n",
    "reversed = ''.join(reversed(sentence))\n",
    "print(reversed) "
   ]
  },
  {
   "cell_type": "code",
   "execution_count": 9,
   "metadata": {},
   "outputs": [
    {
     "data": {
      "text/plain": [
       "['you.', 'with', 'happy', 'very', 'am', 'I']"
      ]
     },
     "execution_count": 9,
     "metadata": {},
     "output_type": "execute_result"
    }
   ],
   "source": [
    "sentence = \"I am very happy with you.\"\n",
    "sentence.split()[::-1]"
   ]
  },
  {
   "cell_type": "code",
   "execution_count": 19,
   "metadata": {},
   "outputs": [
    {
     "name": "stdout",
     "output_type": "stream",
     "text": [
      ".uoy htiw yppah yrev ma I\n"
     ]
    }
   ],
   "source": [
    "sentence = \"I am very happy with you.\"\n",
    "for i in sentence :\n",
    "    print(sentence[::-1])\n",
    "    break\n",
    "\n",
    "        "
   ]
  },
  {
   "cell_type": "code",
   "execution_count": 22,
   "metadata": {},
   "outputs": [
    {
     "name": "stdout",
     "output_type": "stream",
     "text": [
      "['you.', 'with', 'happy', 'very', 'am', 'I']\n"
     ]
    }
   ],
   "source": [
    "sentence = \"I am very happy with you.\"\n",
    "for i in sentence :\n",
    "    print(sentence.split()[::-1])\n",
    "    break\n",
    "    "
   ]
  }
 ],
 "metadata": {
  "interpreter": {
   "hash": "6d46af94c2bbce495f1e668725902fa517c90b1782bcfe2fce0dd9868df553d3"
  },
  "kernelspec": {
   "display_name": "Python 3.9.7 64-bit ('base': conda)",
   "language": "python",
   "name": "python3"
  },
  "language_info": {
   "codemirror_mode": {
    "name": "ipython",
    "version": 3
   },
   "file_extension": ".py",
   "mimetype": "text/x-python",
   "name": "python",
   "nbconvert_exporter": "python",
   "pygments_lexer": "ipython3",
   "version": "3.9.7"
  },
  "orig_nbformat": 4
 },
 "nbformat": 4,
 "nbformat_minor": 2
}
