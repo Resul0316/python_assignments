{
 "cells": [
  {
   "cell_type": "code",
   "execution_count": null,
   "metadata": {},
   "outputs": [],
   "source": [
    "number = input('')\n",
    "number.isdigit()\n",
    "while int(number) < 0 :\n",
    "    print('please enter a positive integer number: ')\n",
    "    break\n",
    "\n",
    "n = len(number)\n",
    "list_numbers = []\n",
    "summ = 0\n",
    "for i in number :\n",
    "    list_numbers += [i]\n",
    "    summ = summ + int(number[i]) ** digits\n",
    "    if summ == int(number) :\n",
    "        print(number,  \" is an Armstrong Number\")\n",
    "    else :\n",
    "        print(number, \"is not a n Armstrong Number\")\n",
    "        "
   ]
  }
 ],
 "metadata": {
  "language_info": {
   "name": "python"
  },
  "orig_nbformat": 4
 },
 "nbformat": 4,
 "nbformat_minor": 2
}
